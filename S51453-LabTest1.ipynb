{
 "cells": [
  {
   "cell_type": "code",
   "execution_count": 10,
   "metadata": {},
   "outputs": [
    {
     "name": "stdout",
     "output_type": "stream",
     "text": [
      "Enter a number in decimal: 24\n",
      "There are 2 '1' in 00011000\n"
     ]
    }
   ],
   "source": [
    "#Question 1\n",
    "\n",
    "def deciToBin(n):\n",
    "    if(n != 0):\n",
    "        return bin(n)[2:].zfill(8)\n",
    "    else:\n",
    "        print(\"Enter a number please!\")\n",
    "\n",
    "userInput = input(\"Enter a number in decimal: \")\n",
    "i = deciToBin(int(userInput))\n",
    "print(\"There are \"+ str(i.count('1')) + \" '1' in \" + i)"
   ]
  },
  {
   "cell_type": "code",
   "execution_count": 30,
   "metadata": {},
   "outputs": [
    {
     "name": "stdout",
     "output_type": "stream",
     "text": [
      "The most common character is 'a'\n"
     ]
    }
   ],
   "source": [
    "#Question 2\n",
    "\n",
    "sentences = \"an apple is not an tomatoaa\"\n",
    "\n",
    "def commonLetter():\n",
    "    letterDict = dict()\n",
    "    commonLetter = sentences[0]\n",
    "    for letter in sentences:\n",
    "        if letter not in letterDict:\n",
    "            letterDict[letter] = 1\n",
    "        else:\n",
    "            letterDict[letter] += 1\n",
    "        if letterDict[letter] > letterDict[commonLetter]:\n",
    "            commonLetter = letter\n",
    "        return commonLetter\n",
    "    \n",
    "print (\"The most common character is \" + \"'\" + commonLetter() + \"'\")"
   ]
  },
  {
   "cell_type": "code",
   "execution_count": 42,
   "metadata": {},
   "outputs": [
    {
     "name": "stdout",
     "output_type": "stream",
     "text": [
      "Enter a sentences: I have Python and GIT exam!\n",
      "There are 6 words in the sentences!\n"
     ]
    }
   ],
   "source": [
    "#Question 3\n",
    "\n",
    "def countWord(sentences):\n",
    "    return len(sentences.split(' '))\n",
    "\n",
    "userInput = input(\"Enter a sentences: \")\n",
    "x = countWord(userInput)\n",
    "print(\"There are \" + str(x) + \" words in the sentences!\")"
   ]
  },
  {
   "cell_type": "code",
   "execution_count": 52,
   "metadata": {},
   "outputs": [
    {
     "name": "stdout",
     "output_type": "stream",
     "text": [
      "Arguments are: (60,)\n",
      "Arguments are: (14,)\n"
     ]
    }
   ],
   "source": [
    "#Question 4 (A)\n",
    "\n",
    "def print_arguments(*args):\n",
    "    print (f'Arguments are: {args}')\n",
    "\n",
    "def multiply(x):\n",
    "    return x * 4\n",
    "\n",
    "def minus(x,y):\n",
    "    return x - y\n",
    "\n",
    "augmented_multiply = print_arguments(multiply(15))\n",
    "augmented_minus = print_arguments(minus(20,6))"
   ]
  },
  {
   "cell_type": "code",
   "execution_count": 69,
   "metadata": {},
   "outputs": [
    {
     "name": "stdout",
     "output_type": "stream",
     "text": [
      "Arguments are: (60,)\n"
     ]
    }
   ],
   "source": [
    "#Question 4 (B)\n",
    "    \n",
    "def multiply(x):\n",
    "    return x * 3\n",
    "\n",
    "def multiply_output(multiply):\n",
    "    return multiply * 2\n",
    "\n",
    "def print_arguments(*args):\n",
    "    print (f'Arguments are: {args}')\n",
    "\n",
    "augmented_multiply = (multiply(10))\n",
    "x = augmented_multiply\n",
    "augmented_output = print_arguments(multiply_output(x))\n",
    "multiply = augmented_output"
   ]
  },
  {
   "cell_type": "code",
   "execution_count": null,
   "metadata": {},
   "outputs": [],
   "source": [
    "#Question 4 (C)\n",
    "def augment_function(*args, decorators):\n",
    "    \n",
    "def add_numbers(a, b):\n",
    "    return a+b\n",
    "\n",
    "decorated_function = augment_function(add_numbers,[print_arguments, multiply_output])\n",
    "\n",
    "x = decorated_function(3, 4)"
   ]
  }
 ],
 "metadata": {
  "kernelspec": {
   "display_name": "Python 3",
   "language": "python",
   "name": "python3"
  },
  "language_info": {
   "codemirror_mode": {
    "name": "ipython",
    "version": 3
   },
   "file_extension": ".py",
   "mimetype": "text/x-python",
   "name": "python",
   "nbconvert_exporter": "python",
   "pygments_lexer": "ipython3",
   "version": "3.8.5"
  }
 },
 "nbformat": 4,
 "nbformat_minor": 4
}
